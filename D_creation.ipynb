{
 "cells": [
  {
   "cell_type": "markdown",
   "id": "da5fddeb",
   "metadata": {},
   "source": [
    "## Создание дневного ТФ\n",
    "Достает сырые данные по инструенту, которые получились в результате обработки первым скриптом и сохраняет в виде дневного таймфрейма с колонками:     \n",
    "- 'date',\n",
    "- 'open',\n",
    "- 'high',\n",
    "- 'low', \n",
    "- 'close', \n",
    "- 'volume', \n",
    "- 'delta_buy', \n",
    "- 'delta_sell',\n",
    "- 'delta', \n",
    "- 'delta_trades_buy', \n",
    "- 'delta_trades_sell',\n",
    "- 'delta_trades',\n",
    "- 'cum_delta', \n",
    "- 'cum_delta_trades'"
   ]
  },
  {
   "cell_type": "code",
   "execution_count": 1,
   "id": "9f5e63f6",
   "metadata": {},
   "outputs": [],
   "source": [
    "import pandas as pd"
   ]
  },
  {
   "cell_type": "code",
   "execution_count": 2,
   "id": "55d22cc0",
   "metadata": {},
   "outputs": [],
   "source": [
    "# Открытие датасета\n",
    "data = pd.read_csv('Datasets/quotes.csv', parse_dates=['full_date'])\n",
    "data[['volume','id']] = data[['volume','id']].astype('uint64')\n",
    "data['delta_trades'] = data['delta_trades'].astype('int8')\n",
    "\n",
    "# Создание времени\n",
    "data['date'] = pd.to_datetime(data['full_date']).dt.date\n",
    "data.drop('full_date', axis=1, inplace=True)"
   ]
  },
  {
   "cell_type": "code",
   "execution_count": 4,
   "id": "8eff5c1e",
   "metadata": {},
   "outputs": [
    {
     "name": "stdout",
     "output_type": "stream",
     "text": [
      "file exists\n"
     ]
    }
   ],
   "source": [
    "# Проверка существует ли файл\n",
    "try:\n",
    "    day = pd.read_csv('Datasets/timeframe_1D.csv')\n",
    "    print('file exists')\n",
    "# Создает новый, если не существует\n",
    "except:\n",
    "    day = pd.DataFrame(columns=['date','open','high',\n",
    "                            'low', 'close', 'volume', \n",
    "                            'delta_buy', 'delta_sell',\n",
    "                            'delta', 'delta_trades_buy', \n",
    "                            'delta_trades_sell','delta_trades',\n",
    "                            'cum_delta', 'cum_delta_trades'])\n",
    "    print('creating new file')"
   ]
  },
  {
   "cell_type": "code",
   "execution_count": 5,
   "id": "d53ab805",
   "metadata": {},
   "outputs": [],
   "source": [
    "data['date'] = pd.to_datetime(data['date'], format='%Y-%m-%d')\n",
    "day['date'] = pd.to_datetime(day['date'], format='%Y-%m-%d')"
   ]
  },
  {
   "cell_type": "code",
   "execution_count": 6,
   "id": "e645ec70",
   "metadata": {
    "code_folding": []
   },
   "outputs": [
    {
     "name": "stdout",
     "output_type": "stream",
     "text": [
      "skipping duplicates...\n",
      "skipping duplicates...\n",
      "skipping duplicates...\n",
      "skipping duplicates...\n",
      "skipping duplicates...\n",
      "skipping duplicates...\n",
      "skipping duplicates...\n",
      "skipping duplicates...\n",
      "skipping duplicates...\n",
      "skipping duplicates...\n",
      "skipping duplicates...\n",
      "skipping duplicates...\n",
      "skipping duplicates...\n",
      "skipping duplicates...\n",
      "skipping duplicates...\n",
      "skipping duplicates...\n",
      "skipping duplicates...\n",
      "skipping duplicates...\n",
      "skipping duplicates...\n",
      "skipping duplicates...\n",
      "skipping duplicates...\n",
      "skipping duplicates...\n",
      "skipping duplicates...\n",
      "skipping duplicates...\n",
      "skipping duplicates...\n",
      "skipping duplicates...\n",
      "skipping duplicates...\n",
      "skipping duplicates...\n",
      "skipping duplicates...\n",
      "skipping duplicates...\n",
      "skipping duplicates...\n",
      "skipping duplicates...\n",
      "skipping duplicates...\n",
      "skipping duplicates...\n",
      "skipping duplicates...\n",
      "skipping duplicates...\n",
      "skipping duplicates...\n",
      "skipping duplicates...\n",
      "skipping duplicates...\n",
      "skipping duplicates...\n",
      "skipping duplicates...\n",
      "skipping duplicates...\n",
      "skipping duplicates...\n",
      "skipping duplicates...\n",
      "skipping duplicates...\n",
      "skipping duplicates...\n",
      "skipping duplicates...\n",
      "skipping duplicates...\n",
      "skipping duplicates...\n",
      "skipping duplicates...\n",
      "skipping duplicates...\n",
      "skipping duplicates...\n",
      "         date    open    high     low   close      volume  delta_buy  \\\n",
      "0  2023-04-03  170.99  171.50  169.00  170.38  22791210.0   11287180   \n",
      "1  2023-04-04  171.00  176.00  170.14  172.55  73197080.0   37949820   \n",
      "2  2023-04-05  172.55  174.48  170.58  173.86  32905650.0   17223230   \n",
      "3  2023-04-06  174.02  175.00  171.30  171.60  30250960.0   13400090   \n",
      "4  2023-04-07  171.50  173.18  171.29  173.09  17927510.0    9895910   \n",
      "\n",
      "   delta_sell    delta  delta_trades_buy  delta_trades_sell  delta_trades  \\\n",
      "0   -11504030  -216850             37563             -30540          7023   \n",
      "1   -35247260  2702560             79347             -70385          8962   \n",
      "2   -15682420  1540810             37760             -30805          6955   \n",
      "3   -16850870 -3450780             39332             -39652          -320   \n",
      "4    -8031600  1864310             30742             -23360          7382   \n",
      "\n",
      "   cum_delta  cum_delta_trades  \n",
      "0    -216850              7023  \n",
      "1    2485710             15985  \n",
      "2    4026520             22940  \n",
      "3     575740             22620  \n",
      "4    2440050             30002  \n",
      "150\n",
      "Done!\n",
      "CPU times: total: 7.5 s\n",
      "Wall time: 7.5 s\n"
     ]
    }
   ],
   "source": [
    "%%time\n",
    "for d in data['date'].unique():\n",
    "    df = data.loc[data['date'] == d].reset_index(drop=True) # Выборка конкретного дня\n",
    "    date = df['date'][0]\n",
    "    if date in day['date'].unique():\n",
    "        print('skipping duplicates...')\n",
    "    else:\n",
    "        opn = df['last'][0]\n",
    "        high = df['last'].max()\n",
    "        low = df['last'].min()\n",
    "        close = df['last'][df.index[-1]]\n",
    "        volume = df['volume'].sum()\n",
    "        delta_buy = df.loc[df['delta_volume'] > 0]['delta_volume'].sum()\n",
    "        delta_sell = df.loc[df['delta_volume'] < 0]['delta_volume'].sum()\n",
    "        delta = delta_buy + delta_sell\n",
    "        delta_trades_buy = df.loc[df['delta_trades'] > 0]['delta_trades'].sum()\n",
    "        delta_trades_sell = df.loc[df['delta_trades'] < 0]['delta_trades'].sum()\n",
    "        delta_trades = df['delta_trades'].sum()\n",
    "        day.loc[len(day.index)] = [date, opn, high, \n",
    "                                   low, close, volume, \n",
    "                                   delta_buy, delta_sell,\n",
    "                                   delta, delta_trades_buy, \n",
    "                                   delta_trades_sell, delta_trades, 0, 0]\n",
    "day['cum_delta'] = day['delta'].cumsum()\n",
    "day['cum_delta_trades'] = day['delta_trades'].cumsum()\n",
    "day.to_csv('Datasets/timeframe_1D.csv', header=True, index=False)\n",
    "day = pd.read_csv('Datasets/timeframe_1D.csv')\n",
    "print('Done!')"
   ]
  },
  {
   "cell_type": "code",
   "execution_count": null,
   "id": "7d3e0060",
   "metadata": {},
   "outputs": [],
   "source": []
  }
 ],
 "metadata": {
  "kernelspec": {
   "display_name": "Python 3 (ipykernel)",
   "language": "python",
   "name": "python3"
  },
  "language_info": {
   "codemirror_mode": {
    "name": "ipython",
    "version": 3
   },
   "file_extension": ".py",
   "mimetype": "text/x-python",
   "name": "python",
   "nbconvert_exporter": "python",
   "pygments_lexer": "ipython3",
   "version": "3.11.6"
  },
  "toc": {
   "base_numbering": 1,
   "nav_menu": {},
   "number_sections": false,
   "sideBar": false,
   "skip_h1_title": false,
   "title_cell": "Table of Contents",
   "title_sidebar": "Contents",
   "toc_cell": false,
   "toc_position": {
    "height": "701.111px",
    "left": "1051px",
    "top": "88px",
    "width": "320px"
   },
   "toc_section_display": false,
   "toc_window_display": false
  },
  "varInspector": {
   "cols": {
    "lenName": 16,
    "lenType": 16,
    "lenVar": 40
   },
   "kernels_config": {
    "python": {
     "delete_cmd_postfix": "",
     "delete_cmd_prefix": "del ",
     "library": "var_list.py",
     "varRefreshCmd": "print(var_dic_list())"
    },
    "r": {
     "delete_cmd_postfix": ") ",
     "delete_cmd_prefix": "rm(",
     "library": "var_list.r",
     "varRefreshCmd": "cat(var_dic_list()) "
    }
   },
   "types_to_exclude": [
    "module",
    "function",
    "builtin_function_or_method",
    "instance",
    "_Feature"
   ],
   "window_display": false
  }
 },
 "nbformat": 4,
 "nbformat_minor": 5
}
